{
 "cells": [
  {
   "cell_type": "markdown",
   "metadata": {},
   "source": [
    "# 机器学习工程师纳米学位\n",
    "## 模型评价与验证\n",
    "## 项目 1: 预测波士顿房价\n",
    "\n",
    "\n",
    "欢迎来到机器学习工程师纳米学位的第一个项目！在此文件中，有些示例代码已经提供给你，但你还需要实现更多的功能来让项目成功运行。除非有明确要求，你无须修改任何已给出的代码。以**'练习'**开始的标题表示接下来的内容中有需要你必须实现的功能。每一部分都会有详细的指导，需要实现的部分也会在注释中以**'TODO'**标出。请仔细阅读所有的提示！\n",
    "\n",
    "除了实现代码外，你还**必须**回答一些与项目和实现有关的问题。每一个需要你回答的问题都会以**'问题 X'**为标题。请仔细阅读每个问题，并且在问题后的**'回答'**文字框中写出完整的答案。你的项目将会根据你对问题的回答和撰写代码所实现的功能来进行评分。\n",
    "\n",
    ">**提示：**Code 和 Markdown 区域可通过 **Shift + Enter** 快捷键运行。此外，Markdown可以通过双击进入编辑模式。"
   ]
  },
  {
   "cell_type": "markdown",
   "metadata": {},
   "source": [
    "## 开始\n",
    "在这个项目中，你将利用马萨诸塞州波士顿郊区的房屋信息数据训练和测试一个模型，并对模型的性能和预测能力进行测试。通过该数据训练后的好的模型可以被用来对房屋做特定预测---尤其是对房屋的价值。对于房地产经纪等人的日常工作来说，这样的预测模型被证明非常有价值。\n",
    "\n",
    "此项目的数据集来自[UCI机器学习知识库](https://archive.ics.uci.edu/ml/datasets/Housing)。波士顿房屋这些数据于1978年开始统计，共506个数据点，涵盖了麻省波士顿不同郊区房屋14种特征的信息。本项目对原始数据集做了以下处理：\n",
    "- 有16个`'MDEV'` 值为50.0的数据点被移除。 这很可能是由于这些数据点包含**遗失**或**看不到的值**。\n",
    "- 有1个数据点的 `'RM'` 值为8.78. 这是一个异常值，已经被移除。\n",
    "- 对于本项目，房屋的`'RM'`， `'LSTAT'`，`'PTRATIO'`以及`'MDEV'`特征是必要的，其余不相关特征已经被移除。\n",
    "- `'MDEV'`特征的值已经过必要的数学转换，可以反映35年来市场的通货膨胀效应。\n",
    "\n",
    "运行下面区域的代码以载入波士顿房屋数据集，以及一些此项目所需的Python库。如果成功返回数据集的大小，表示数据集已载入成功。"
   ]
  },
  {
   "cell_type": "code",
   "execution_count": 70,
   "metadata": {
    "collapsed": false
   },
   "outputs": [
    {
     "name": "stdout",
     "output_type": "stream",
     "text": [
      "Boston housing dataset has 489 data points with 4 variables each.\n"
     ]
    }
   ],
   "source": [
    "# Import libraries necessary for this project\n",
    "# 载入此项目所需要的库\n",
    "import numpy as np\n",
    "import pandas as pd\n",
    "import visuals as vs # Supplementary code\n",
    "from sklearn.cross_validation import ShuffleSplit\n",
    "\n",
    "# Pretty display for notebooks\n",
    "# 让结果在notebook中显示\n",
    "%matplotlib inline\n",
    "\n",
    "# Load the Boston housing dataset\n",
    "# 载入波士顿房屋的数据集\n",
    "data = pd.read_csv('housing.csv')\n",
    "prices = data['MDEV']\n",
    "features = data.drop('MDEV', axis = 1)\n",
    "    \n",
    "# Success\n",
    "# 完成\n",
    "print \"Boston housing dataset has {} data points with {} variables each.\".format(*data.shape)"
   ]
  },
  {
   "cell_type": "markdown",
   "metadata": {},
   "source": [
    "## 分析数据\n",
    "在项目的第一个部分，你会对波士顿房地产数据进行初步的观察并给出你的分析。通过对数据的探索来熟悉数据可以让你更好地理解和解释你的结果。\n",
    "\n",
    "由于这个项目的最终目标是建立一个预测房屋价值的模型，我们需要将数据集分为**特征(features)**和**目标变量(target variable)**。**特征** `'RM'`， `'LSTAT'`，和 `'PTRATIO'`，给我们提供了每个数据点的数量相关的信息。**目标变量**：` 'MDEV'`，是我们希望预测的变量。他们分别被存在`features`和`prices`两个变量名中。"
   ]
  },
  {
   "cell_type": "markdown",
   "metadata": {},
   "source": [
    "## 练习：基础统计运算\n",
    "你的第一个编程练习是计算有关波士顿房价的描述统计数据。我们已为你导入了` numpy `，你需要使用这个库来执行必要的计算。这些统计数据对于分析模型的预测结果非常重要的。\n",
    "在下面的代码中，你要做的是：\n",
    "- 计算`prices`中的`'MDEV'`的最小值、最大值、均值、中值和标准差；\n",
    "- 将运算结果储存在相应的变量中。"
   ]
  },
  {
   "cell_type": "code",
   "execution_count": 71,
   "metadata": {
    "collapsed": false
   },
   "outputs": [
    {
     "name": "stdout",
     "output_type": "stream",
     "text": [
      "count    4.890000e+02\n",
      "mean     4.543429e+05\n",
      "std      1.653403e+05\n",
      "min      1.050000e+05\n",
      "25%      3.507000e+05\n",
      "50%      4.389000e+05\n",
      "75%      5.187000e+05\n",
      "max      1.024800e+06\n",
      "Name: MDEV, dtype: float64\n"
     ]
    }
   ],
   "source": [
    "value= prices.describe()\n",
    "print value"
   ]
  },
  {
   "cell_type": "code",
   "execution_count": 72,
   "metadata": {
    "collapsed": false
   },
   "outputs": [
    {
     "name": "stdout",
     "output_type": "stream",
     "text": [
      "<type 'numpy.float64'>\n",
      "Statistics for Boston housing dataset:\n",
      "\n",
      "Minimum price: $105,000.00\n",
      "Maximum price: $1,024,800.00\n",
      "Mean price: $454,342.94\n",
      "Median price $438,900.00\n",
      "Standard deviation of prices: $165,340.28\n"
     ]
    }
   ],
   "source": [
    "# TODO: Minimum price of the data\n",
    "#目标：计算价值的最小值\n",
    "minimum_price = None\n",
    "\n",
    "# TODO: Maximum price of the data\n",
    "#目标：计算价值的最大值\n",
    "maximum_price = None\n",
    "\n",
    "# TODO: Mean price of the data\n",
    "#目标：计算价值的平均值\n",
    "mean_price = None\n",
    "\n",
    "# TODO: Median price of the data\n",
    "#目标：计算价值的中值\n",
    "median_price = None\n",
    "\n",
    "# TODO: Standard deviation of prices of the data\n",
    "#目标：计算价值的标准差\n",
    "std_price = None\n",
    "value = prices.describe()\n",
    "minimum_price = value['min']\n",
    "maximum_price = value['max']\n",
    "mean_price = value['mean']\n",
    "median_price = value['50%']\n",
    "std_price = value['std']\n",
    "count,mean_price,std_price,minium_price,min25,median_price,min75,maximum_price = prices.describe()\n",
    "\n",
    "print type(minimum_price)\n",
    "# Show the calculated statistics\n",
    "#目标：输出计算的结果\n",
    "print \"Statistics for Boston housing dataset:\\n\"\n",
    "print \"Minimum price: ${:,.2f}\".format(minimum_price)\n",
    "print \"Maximum price: ${:,.2f}\".format(maximum_price)\n",
    "print \"Mean price: ${:,.2f}\".format(mean_price)\n",
    "print \"Median price ${:,.2f}\".format(median_price)\n",
    "print \"Standard deviation of prices: ${:,.2f}\".format(std_price)"
   ]
  },
  {
   "cell_type": "markdown",
   "metadata": {},
   "source": [
    "### 问题1 - 特征观察\n",
    "\n",
    "如前文所述，本项目中我们关注的是其中三个值:`'RM'`、`'LSTAT'` 和`'PTRATIO'`，对每一个数据点:\n",
    "- `'RM'` 是该地区中每个房屋的平均房间数量；\n",
    "- `'LSTAT'` 是对该地区房屋所有者财富水平的衡量，该值越小说明该地区的房主越富裕；\n",
    "- `'PTRATIO'` 是该地区的中学和小学里，学生和老师的数目比（`学生/老师`）。\n",
    "\n",
    "_凭直觉，上述三个特征中对每一个来说，你认为增大该特征的数值，`'MDEV'`的值会是**增大**还是**减小**呢？每一个答案都需要你给出理由。_\n",
    "\n",
    "**提示：**你预期一个`'RM'` 值是6的房屋跟`'RM'` 值是7的房屋相比，价值更高还是更低呢？"
   ]
  },
  {
   "cell_type": "markdown",
   "metadata": {},
   "source": [
    "**回答: **1. ‘RM’增大，‘MDEV’增加，因为房间数越多，建造房屋的成本就会增加;2. ‘LSTAT’增大，’MDEV‘减小，因为富裕的房主聚集的地方房价也会较高，反之，则房价减少；3. ’PTRATIO‘增大，’MDEV‘减少，’PTRATIO‘大，说明教育资源紧张，所以房价较低。"
   ]
  },
  {
   "cell_type": "markdown",
   "metadata": {},
   "source": [
    "## 建模\n",
    "在项目的第二部分中，你需要了解必要的工具和技巧来让你的模型进行预测。用这些工具和技巧对每一个模型的表现做精确的衡量可以极大地增强你预测的信心。"
   ]
  },
  {
   "cell_type": "markdown",
   "metadata": {},
   "source": [
    "### 练习：定义衡量标准\n",
    "如果不能对模型的训练和测试的表现进行量化地评估，我们就很难衡量模型的好坏。通常我们会定义一些衡量标准，这些标准可以通过对某些误差或者拟合程度的计算来得到。在这个项目中，你将通过运算[*决定系数*](http://stattrek.com/statistics/dictionary.aspx?definition=coefficient_of_determination)R<sup>2</sup> 来量化模型的表现。模型的决定系数是回归分析中十分常用的统计信息，经常被当作衡量模型预测能力好坏的标准。\n",
    "\n",
    "R<sup>2</sup>的数值范围从0至1，表示**目标变量**的预测值和实际值之间的相关程度平方的百分比。一个模型的R<sup>2</sup> 值为0说明它完全无法预测目标变量；而一个R<sup>2</sup> 值为1的模型则可以对目标变量进行完美的预测。从0至1之间的数值，则表示该模型中目标变量中有百分之多少能够用**特征**来解释。_模型也可能出现负值的R<sup>2</sup>，这种情况下模型所做预测还不如直接计算目标变量的平均值。\n",
    "\n",
    "在下方代码的 `performance_metric` 函数中，你要实现：\n",
    "- 使用 `sklearn.metrics` 中的 `r2_score` 来计算 `y_true` 和 `y_predict`的R<sup>2</sup>值，作为对其表现的评判。\n",
    "- 将他们的表现评分储存到`score`变量中。"
   ]
  },
  {
   "cell_type": "code",
   "execution_count": 73,
   "metadata": {
    "collapsed": false
   },
   "outputs": [],
   "source": [
    "# TODO: Import 'r2_score'\n",
    "from sklearn.metrics import r2_score \n",
    "def performance_metric(y_true, y_predict):\n",
    "    \"\"\" Calculates and returns the performance score between \n",
    "        true and predicted values based on the metric chosen. \"\"\"\n",
    "    \n",
    "    # TODO: Calculate the performance score between 'y_true' and 'y_predict'\n",
    "    score = None\n",
    "    score = r2_score(y_true,y_predict)\n",
    "    print score\n",
    "    # Return the score\n",
    "    return score"
   ]
  },
  {
   "cell_type": "markdown",
   "metadata": {},
   "source": [
    "### 问题2 - 拟合程度\n",
    "\n",
    "假设一个数据集有五个数据且一个模型做出下列目标变量的预测：\n",
    "\n",
    "| 真实数值 | 预测数值 |\n",
    "| :-------------: | :--------: |\n",
    "| 3.0 | 2.5 |\n",
    "| -0.5 | 0.0 |\n",
    "| 2.0 | 2.1 |\n",
    "| 7.0 | 7.8 |\n",
    "| 4.2 | 5.3 |\n",
    "*你会觉得这个模型已成功地预测了目标变量吗？如果成功，请解释为什么，如果没有，也请给出原因。*  \n",
    "\n",
    "运行下方的代码，使用`performance_metric`函数来计算模型的决定系数。"
   ]
  },
  {
   "cell_type": "code",
   "execution_count": 74,
   "metadata": {
    "collapsed": false
   },
   "outputs": [
    {
     "name": "stdout",
     "output_type": "stream",
     "text": [
      "0.922855648536\n",
      "Model has a coefficient of determination, R^2, of 0.923.\n"
     ]
    }
   ],
   "source": [
    "# Calculate the performance of this model\n",
    "score = performance_metric([3, -0.5, 2, 7, 4.2], [2.5, 0.0, 2.1, 7.8, 5.3])\n",
    "print \"Model has a coefficient of determination, R^2, of {:.3f}.\".format(score)"
   ]
  },
  {
   "cell_type": "markdown",
   "metadata": {},
   "source": [
    "**回答:**成功，因为R^2值接近1,而根据R^2定义，接近1说明预测准确。"
   ]
  },
  {
   "cell_type": "markdown",
   "metadata": {},
   "source": [
    "### 练习: 数据分割与重排\n",
    "接下来，你需要把波士顿房屋数据集分成训练和测试两个子集。通常在这个过程中，数据也会被重新排序，以消除数据集中由于排序而产生的偏差。\n",
    "在下面的代码中，你需要：\n",
    "- 使用 `sklearn.cross_validation` 中的 `train_test_split`， 将`features`和`prices`的数据都分成用于训练的数据子集和用于测试的数据子集。\n",
    "  - 分割比例为：80%的数据用于训练，20%用于测试；\n",
    "  - 选定一个数值以设定 `train_test_split` 中的 `random_state` ，这会确保结果的一致性；\n",
    "- 最终分离出的子集为`X_train`,`X_test`,`y_train`,和`y_test`。"
   ]
  },
  {
   "cell_type": "code",
   "execution_count": 75,
   "metadata": {
    "collapsed": false
   },
   "outputs": [
    {
     "name": "stdout",
     "output_type": "stream",
     "text": [
      "Training and testing split was successful.\n"
     ]
    }
   ],
   "source": [
    "# TODO: Import 'train_test_split'\n",
    "from sklearn.cross_validation import train_test_split\n",
    "\n",
    "# TODO: Shuffle and split the data into training and testing subsets\n",
    "X_train, X_test, y_train, y_test = (None, None, None, None)\n",
    "\n",
    "X_train, X_test, y_train, y_test = train_test_split(features, prices, test_size = 0.2, random_state=0)\n",
    "# Success\n",
    "print \"Training and testing split was successful.\""
   ]
  },
  {
   "cell_type": "markdown",
   "metadata": {},
   "source": [
    "### 问题 3- 训练及测试\n",
    "*将数据集按一定比例分为训练用的数据集和测试用的数据集对学习算法有什么好处？*\n",
    "\n",
    "**提示：** 如果没有数据来对模型进行测试，会出现什么问题？"
   ]
  },
  {
   "cell_type": "markdown",
   "metadata": {},
   "source": [
    "**答案: **1. 如果把所有数据都用做数据集，再用数据集的一部分数据来评估准确率的话，会得到准确率偏高的模型，但是可能会对新的数据表现不佳。2. 检查overfit。"
   ]
  },
  {
   "cell_type": "markdown",
   "metadata": {},
   "source": [
    "----\n",
    "\n",
    "## 分析模型的表现\n",
    "在项目的第三部分，我们来看一下几个模型针对不同的数据集在学习和测试上的表现。另外，你需要专注于一个特定的算法，用全部训练集训练时，提高它的`'max_depth'` 参数，观察这一参数的变化如何影响模型的表现。把你模型的表现画出来对于分析过程十分有益。可视化可以让我们看到一些单看结果看不到的行为。"
   ]
  },
  {
   "cell_type": "markdown",
   "metadata": {},
   "source": [
    "### 学习曲线\n",
    "下方区域内的代码会输出四幅图像，它们是一个决策树模型在不同最大深度下的表现。每一条曲线都直观的显示了随着训练数据量的增加，模型学习曲线的训练评分和测试评分的变化。注意，曲线的阴影区域代表的是该曲线的不确定性（用标准差衡量）。这个模型的训练和测试部分都使用决定系数R<sup>2</sup>来评分。\n",
    "\n",
    "运行下方区域中的代码，并利用输出的图形回答下面的问题。"
   ]
  },
  {
   "cell_type": "code",
   "execution_count": 76,
   "metadata": {
    "collapsed": false,
    "scrolled": false
   },
   "outputs": [
    {
     "data": {
      "image/png": "[encoded data removed]",
      "text/plain": [
       "<matplotlib.figure.Figure at 0x7fd90ee6bad0>"
      ]
     },
     "metadata": {},
     "output_type": "display_data"
    }
   ],
   "source": [
    "# Produce learning curves for varying training set sizes and maximum depths\n",
    "vs.ModelLearning(features, prices)"
   ]
  },
  {
   "cell_type": "markdown",
   "metadata": {},
   "source": [
    "### 问题 4 - 学习数据\n",
    "*选择上述图像中的其中一个，并给出其最大深度。随着训练数据量的增加，训练曲线的评分有怎样的变化？测试曲线呢？如果有更多的训练数据，是否能有效提升模型的表现呢？*\n",
    "**提示：**学习曲线的评分是否最终会收敛到特定的值？"
   ]
  },
  {
   "cell_type": "markdown",
   "metadata": {},
   "source": [
    "**答案: **第二副图 maxdepth=3,随着训练数据量的增加，训练曲线的评分逐渐下降，在大约350个训练数据出趋于平稳，测试数据在数据集少时，评分急剧上升，逐渐趋于平稳，与数据集的评分接近，再增加更多的数据集不能提升模型的表现。"
   ]
  },
  {
   "cell_type": "markdown",
   "metadata": {},
   "source": [
    "### 复杂度曲线\n",
    "下列代码内的区域会输出一幅图像，它展示了一个已经经过训练和验证的决策树模型在不同最大深度条件下的表现。这个图形将包含两条曲线，一个是训练的变化，一个是测试的变化。跟**学习曲线**相似，阴影区域代表该曲线的不确定性，模型训练和测试部分的评分都用的 `performance_metric` 函数。\n",
    "\n",
    "运行下方区域中的代码，并利用输出的图形并回答下面的两个问题。"
   ]
  },
  {
   "cell_type": "code",
   "execution_count": 77,
   "metadata": {
    "collapsed": false
   },
   "outputs": [
    {
     "data": {
      "image/png": "[encoded data removed]",
      "text/plain": [
       "<matplotlib.figure.Figure at 0x7fd913b21e10>"
      ]
     },
     "metadata": {},
     "output_type": "display_data"
    }
   ],
   "source": [
    "vs.ModelComplexity(X_train, y_train)"
   ]
  },
  {
   "cell_type": "markdown",
   "metadata": {},
   "source": [
    "### 问题 5- 偏差与方差之间的权衡取舍\n",
    "*当模型以最大深度 1训练时，模型的预测是出现很大的偏差还是出现了很大的方差？当模型以最大深度10训练时，情形又如何呢？图形中的哪些特征能够支持你的结论？*\n",
    "  \n",
    "**提示：** 你如何得知模型是否出现了偏差很大或者方差很大的问题？"
   ]
  },
  {
   "cell_type": "markdown",
   "metadata": {},
   "source": [
    "**答案: **1. 当最大深度为1时，模型出现较大偏差，因为训练集和测试集得分都很低，属于underfit;  2. 当最大深度为10时，数据集和测试集得分差异明显，出现overfit现象，所以方差大。"
   ]
  },
  {
   "cell_type": "markdown",
   "metadata": {},
   "source": [
    "### 问题 6- 最优模型的猜测\n",
    "*你认为最大深度是多少的模型能够最好地对未见过的数据进行预测？为什么你会得出了这个答案？*"
   ]
  },
  {
   "cell_type": "markdown",
   "metadata": {},
   "source": [
    "**答案: **当maxdepth = 4 时，能够最好的对未见过的数据进行预测，因为此时训练集和测试集得分差距小，而且增加maxdepth也已经不能提高测试集的得分。"
   ]
  },
  {
   "cell_type": "markdown",
   "metadata": {},
   "source": [
    "-----\n",
    "\n",
    "## 评价模型表现\n",
    "在这个项目的最后，你将自己建立模型，并使用最优化的`fit_model`函数，基于客户房子的特征来预测该房屋的价值。"
   ]
  },
  {
   "cell_type": "markdown",
   "metadata": {},
   "source": [
    "### 问题 7- 网格搜索（Grid Search）\n",
    "*什么是网格搜索法？如何用它来优化学习算法？*\n"
   ]
  },
  {
   "cell_type": "markdown",
   "metadata": {},
   "source": [
    "**回答: **网络搜索会将所有的参数组合遍历一遍，每种参数组合再利用交叉验证评估得分，最后取得分最高的哪种参数组合。"
   ]
  },
  {
   "cell_type": "markdown",
   "metadata": {},
   "source": [
    "### 问题 8- 交叉验证\n",
    "*什么是K折交叉验证法（k-fold cross-validation）？优化模型时，使用这种方法对网格搜索有什么好处？* \n",
    "\n",
    "**提示：** 跟为何需要一组训练集的原因差不多，网格搜索时如果不使用交叉验证会有什么问题？"
   ]
  },
  {
   "cell_type": "markdown",
   "metadata": {},
   "source": [
    "**答案: **k折交叉验证是将初始采样分割成k个子样本，一个单独的子样本被保留作为验证模型的数据，其他k-1个样本用来训练，重复k次，平均k次的结果最终得到一个单一估值。对网络搜索的好处是，当数据集不够大时，能够对网络搜索的所有参数组合进行充分的评估，从而提高模型的性能。"
   ]
  },
  {
   "cell_type": "markdown",
   "metadata": {},
   "source": [
    "### 练习：训练模型\n",
    "在最后一个练习中，你将需要将所学到的内容整合，使用**决策树演算法**训练一个模型。为了保证你得出的是一个最优模型，你需要使用网格搜索法训练模型，以找到最佳的 `'max_depth'` 参数。你可以把`'max_depth'` 参数理解为决策树算法在做出预测前，允许其对数据提出问题的数量。决策树是**监督学习算法**中的一种。\n",
    "\n",
    "在下方 `fit_model` 函数中，你需要做的是：\n",
    "- 使用  `sklearn.tree` 中的 [`DecisionTreeRegressor`](http://scikit-learn.org/stable/modules/generated/sklearn.tree.DecisionTreeRegressor.html) 创建一个决策树的回归函数；\n",
    "  - 将这个回归函数储存到 `'regressor'` 变量中；\n",
    "- 为 `'max_depth'` 创造一个字典，它的值是从1至10的数组，并储存到 `'params'` 变量中；\n",
    "- 使用 `sklearn.metrics` 中的 [`make_scorer`](http://scikit-learn.org/stable/modules/generated/sklearn.metrics.make_scorer.html)  创建一个评分函数；\n",
    "  - 将 `performance_metric` 作为参数传至这个函数中；\n",
    "  - 将评分函数储存到 `'scoring_fnc'` 变量中；\n",
    "- 使用 `sklearn.grid_search` 中的 [`GridSearchCV`](http://scikit-learn.org/stable/modules/generated/sklearn.grid_search.GridSearchCV.html) 创建一个网格搜索对象；\n",
    "  - 将变量`'regressor'`, `'params'`, `'scoring_fnc'`, 和 `'cv_sets'` 作为参数传至这个对象中；\n",
    "  - 将 `GridSearchCV` 存到 `'grid'` 变量中。"
   ]
  },
  {
   "cell_type": "code",
   "execution_count": 78,
   "metadata": {
    "collapsed": false
   },
   "outputs": [],
   "source": [
    "# TODO: Import 'make_scorer', 'DecisionTreeRegressor', and 'GridSearchCV'\n",
    "from sklearn.metrics import make_scorer\n",
    "from sklearn.tree import DecisionTreeRegressor\n",
    "from sklearn.grid_search import GridSearchCV\n",
    "from sklearn.cross_validation import ShuffleSplit\n",
    "from pandas import Series\n",
    "\n",
    "def fit_model(X, y):\n",
    "    \"\"\" Performs grid search over the 'max_depth' parameter for a \n",
    "        decision tree regressor trained on the input data [X, y]. \"\"\"\n",
    "\n",
    "    # Create cross-validation sets from the training data\n",
    "    cv_sets = ShuffleSplit(X.shape[0], n_iter = 10, test_size = 0.20, random_state = 0)\n",
    "\n",
    "    # TODO: Create a decision tree regressor object\n",
    "    regressor = None\n",
    "    regressor = DecisionTreeRegressor(random_state = 0)\n",
    "\n",
    "    # TODO: Create a dictionary for the parameter 'max_depth' with a range from 1 to 10\n",
    "    #params = {}\n",
    "    params = {'max_depth':[1,2,3,4,5,6,7,8,9,10]}\n",
    "\n",
    "    # TODO: Transform 'performance_metric' into a scoring function using 'make_scorer' \n",
    "    scoring_fnc = None\n",
    "    scoring_fnc = make_scorer(performance_metric)\n",
    "\n",
    "    # TODO: Create the grid search object\n",
    "    grid = None\n",
    "    grid = GridSearchCV(regressor,params,scoring_fnc)\n",
    "\n",
    "    # Fit the grid search object to the data to compute the optimal model\n",
    "    grid = grid.fit(X, y)\n",
    "    # Return the optimal model after fitting the data\n",
    "    return grid.best_estimator_"
   ]
  },
  {
   "cell_type": "markdown",
   "metadata": {},
   "source": [
    "### 做出预测\n",
    "当我们用数据训练出一个模型，它现在就可用于对新的数据进行预测。在决策树回归函数中，模型已经学会对新输入的数据*提问*，并返回对**目标变量**的预测值。你可以用这个预测来获取数据未知目标变量的信息，这些数据必须是不包含在训练数据之内的。"
   ]
  },
  {
   "cell_type": "markdown",
   "metadata": {},
   "source": [
    "### 问题 9- 最优模型\n",
    "*最优模型的最大深度（maximum depth）是多少？此答案与你在**问题 6**所做的猜测是否相同？*\n",
    "\n",
    "运行下方区域内的代码，将决策树回归函数代入训练数据的集合，以得到最优化的模型。"
   ]
  },
  {
   "cell_type": "code",
   "execution_count": 79,
   "metadata": {
    "collapsed": false,
    "scrolled": true
   },
   "outputs": [
    {
     "name": "stdout",
     "output_type": "stream",
     "text": [
      "0.296395704806\n",
      "0.406028089559\n",
      "0.382860656793\n",
      "0.578815100042\n",
      "0.698434642122\n",
      "0.608684739636\n",
      "0.733142901988\n",
      "0.788917310873\n",
      "0.730748185834\n",
      "0.75020342581\n",
      "0.770233267546\n",
      "0.762858588665\n",
      "0.802151140421\n",
      "0.782395298532\n",
      "0.759539159829\n",
      "0.659351487726\n",
      "0.78263242959\n",
      "0.753229310757\n",
      "0.79548836786\n",
      "0.782093786858\n",
      "0.738749003846\n",
      "0.643814414068\n",
      "0.755002637329\n",
      "0.739995538198\n",
      "0.781526602871\n",
      "0.748470000267\n",
      "0.719274774908\n",
      "0.654660120266\n",
      "0.73950500994\n",
      "0.732014479269\n",
      "Parameter 'max_depth' is 5 for the optimal model.\n"
     ]
    }
   ],
   "source": [
    "# Fit the training data to the model using grid search\n",
    "reg = fit_model(X_train, y_train)\n",
    "\n",
    "# Produce the value for 'max_depth'\n",
    "print \"Parameter 'max_depth' is {} for the optimal model.\".format(reg.get_params()['max_depth'])"
   ]
  },
  {
   "cell_type": "markdown",
   "metadata": {},
   "source": [
    "**Answer: **最优max_depth = 5,与我问题六中的答案有点差别。"
   ]
  },
  {
   "cell_type": "markdown",
   "metadata": {},
   "source": [
    "### 问题 10 - 预测销售价格\n",
    "想像你是一个在波士顿地区的房屋经纪人，并期待使用此模型以帮助你的客户评估他们想出售的房屋。你已经从你的三个客户收集到以下的资讯:\n",
    "\n",
    "| 特征 | 客戶 1 | 客戶 2 | 客戶 3 |\n",
    "| :---: | :---: | :---: | :---: |\n",
    "| 房屋内房间总数 | 5 间房间 | 4 间房间 | 8 间房间 |\n",
    "| 家户净值（收入） | 前百分之 34 | 后百分之 45 | 前百分之 7 |\n",
    "| 邻近学校的学生-老师比例 | 15：1 | 22：1 | 12：1 |\n",
    "\n",
    "*你会建议每位客户的房屋销售的价格为多少？从房屋特征的数值判断，这样的价格合理吗？* \n",
    "\n",
    "**提示：**用你在**分析数据**部分计算出来的统计信息来帮助你证明你的答案。\n",
    "\n",
    "运行下列的代码区域，使用你优化的模型来为每位客户的房屋价值做出预测。"
   ]
  },
  {
   "cell_type": "code",
   "execution_count": 80,
   "metadata": {
    "collapsed": false
   },
   "outputs": [
    {
     "name": "stdout",
     "output_type": "stream",
     "text": [
      "Predicted selling price for Client 1's home: $332,850.00\n",
      "Predicted selling price for Client 2's home: $289,800.00\n",
      "Predicted selling price for Client 3's home: $976,150.00\n"
     ]
    }
   ],
   "source": [
    "# Produce a matrix for client data\n",
    "client_data = [[5, 34, 15], # Client 1\n",
    "               [4, 55, 22], # Client 2\n",
    "               [8, 7, 12]]  # Client 3\n",
    "\n",
    "# Show predictions\n",
    "for i, price in enumerate(reg.predict(client_data)):\n",
    "    print \"Predicted selling price for Client {}'s home: ${:,.2f}\".format(i+1, price)"
   ]
  },
  {
   "cell_type": "markdown",
   "metadata": {},
   "source": [
    "**答案: **Predicted selling price for Client 1's home: $332,850.00\n",
    "Predicted selling price for Client 2's home: $289,800.00\n",
    "Predicted selling price for Client 3's home: $976,150.00\n",
    "数据合理，与我在问题1中关于特征对房屋价格影响判断吻合。"
   ]
  },
  {
   "cell_type": "markdown",
   "metadata": {},
   "source": [
    "### 敏感度\n",
    "\n",
    "一个最优的模型不一定是一个健壮模型。有的时候模型会过于复杂或者过于简单，以致于难以泛化新增添的数据；有的时候模型采用的学习算法并不适用于特定的数据结构；有的时候样本本身可能有太多噪点或样本过少，使得模型无法准确地预测目标变量。这些情况下我们会说模型是欠拟合的。执行下方区域中的代码，采用不同的训练和测试集执行 `fit_model` 函数10次。注意观察对一个特定的客户来说，预测是如何随训练数据的变化而变化的。"
   ]
  },
  {
   "cell_type": "code",
   "execution_count": 81,
   "metadata": {
    "collapsed": false
   },
   "outputs": [
    {
     "name": "stdout",
     "output_type": "stream",
     "text": [
      "0.296395704806\n",
      "0.406028089559\n",
      "0.382860656793\n",
      "0.578815100042\n",
      "0.698434642122\n",
      "0.608684739636\n",
      "0.733142901988\n",
      "0.788917310873\n",
      "0.730748185834\n",
      "0.75020342581\n",
      "0.770233267546\n",
      "0.762858588665\n",
      "0.802151140421\n",
      "0.782395298532\n",
      "0.759539159829\n",
      "0.659351487726\n",
      "0.78263242959\n",
      "0.753229310757\n",
      "0.79548836786\n",
      "0.782093786858\n",
      "0.738749003846\n",
      "0.643814414068\n",
      "0.755002637329\n",
      "0.739995538198\n",
      "0.781526602871\n",
      "0.748470000267\n",
      "0.719274774908\n",
      "0.654660120266\n",
      "0.73950500994\n",
      "0.732014479269\n",
      "Trial 1: $332,850.00\n",
      "0.251490075832\n",
      "0.406521768931\n",
      "0.412004218022\n",
      "0.569755740846\n",
      "0.705816198048\n",
      "0.656443427009\n",
      "0.703073369848\n",
      "0.811798052738\n",
      "0.788190923669\n",
      "0.751565503021\n",
      "0.832965982046\n",
      "0.796984185736\n",
      "0.716800784522\n",
      "0.820209280956\n",
      "0.777043543277\n",
      "0.724571089902\n",
      "0.803024476079\n",
      "0.7765583162\n",
      "0.720823188526\n",
      "0.786490333501\n",
      "0.772303884804\n",
      "0.729248221787\n",
      "0.786537506566\n",
      "0.716071567563\n",
      "0.701563644215\n",
      "0.790467503876\n",
      "0.693306467769\n",
      "0.697545133944\n",
      "0.783918024983\n",
      "0.677768802159\n",
      "Trial 2: $411,417.39\n",
      "0.384414821334\n",
      "0.404970636066\n",
      "0.391495230363\n",
      "0.658887920313\n",
      "0.714994840079\n",
      "0.492506781657\n",
      "0.746470558814\n",
      "0.792188290075\n",
      "0.700229709829\n",
      "0.797599711327\n",
      "0.769851959258\n",
      "0.766726719068\n",
      "0.767953717453\n",
      "0.766557162333\n",
      "0.769561748869\n",
      "0.75041127715\n",
      "0.730812216667\n",
      "0.749952032002\n",
      "0.722589055676\n",
      "0.693678005775\n",
      "0.7380188542\n",
      "0.71099069652\n",
      "0.695273078288\n",
      "0.70562546507\n",
      "0.717367908959\n",
      "0.659088271895\n",
      "0.731641606738\n",
      "0.698607310565\n",
      "0.684498414481\n",
      "0.737167646207\n",
      "Trial 3: $346,500.00\n",
      "0.371160286241\n",
      "0.379420322007\n",
      "0.415323787854\n",
      "0.61319179751\n",
      "0.722223422997\n",
      "0.646723432341\n",
      "0.680373146541\n",
      "0.818152628498\n",
      "0.735500348471\n",
      "0.734178246683\n",
      "0.832756239459\n",
      "0.763856326051\n",
      "0.727069328855\n",
      "0.840803755712\n",
      "0.767451259215\n",
      "0.714387425101\n",
      "0.833770616816\n",
      "0.77120534742\n",
      "0.733570334047\n",
      "0.810968372229\n",
      "0.774257616822\n",
      "0.710776234535\n",
      "0.789117217252\n",
      "0.748995662702\n",
      "0.722339043842\n",
      "0.794868545637\n",
      "0.73072350932\n",
      "0.693978704707\n",
      "0.797672884693\n",
      "0.728586337452\n",
      "Trial 4: $324,450.00\n",
      "0.394071144057\n",
      "0.296416207675\n",
      "0.394038211979\n",
      "0.680132471967\n",
      "0.553998439856\n",
      "0.69078352934\n",
      "0.794153750484\n",
      "0.686859945841\n",
      "0.799205494442\n",
      "0.828008878044\n",
      "0.725296911762\n",
      "0.815909931447\n",
      "0.807094191008\n",
      "0.706006952377\n",
      "0.794212383372\n",
      "0.805565140338\n",
      "0.698833234624\n",
      "0.759235513121\n",
      "0.787748573496\n",
      "0.668199470154\n",
      "0.738023684643\n",
      "0.755808799718\n",
      "0.640200095992\n",
      "0.74700995468\n",
      "0.74089349448\n",
      "0.620196966984\n",
      "0.722230411533\n",
      "0.744971676925\n",
      "0.628620195309\n",
      "0.721040856509\n",
      "Trial 5: $413,334.78\n",
      "0.211997380919\n",
      "0.445694840887\n",
      "0.416016999389\n",
      "0.564597903868\n",
      "0.716713765237\n",
      "0.638089641936\n",
      "0.741408039508\n",
      "0.74786934259\n",
      "0.746316301989\n",
      "0.740963304816\n",
      "0.781703472455\n",
      "0.773972296443\n",
      "0.756449482657\n",
      "0.767999827992\n",
      "0.75750090796\n",
      "0.707371103358\n",
      "0.777518280391\n",
      "0.735527359696\n",
      "0.746130046259\n",
      "0.749459421165\n",
      "0.746860786538\n",
      "0.729147514163\n",
      "0.716854019992\n",
      "0.739912225095\n",
      "0.695762995789\n",
      "0.739318673418\n",
      "0.728520758514\n",
      "0.699659885384\n",
      "0.734074881265\n",
      "0.743141002128\n",
      "Trial 6: $411,931.58\n",
      "0.37601184254\n",
      "0.390966788976\n",
      "0.27242307583\n",
      "0.644403518436\n",
      "0.683336229599\n",
      "0.600343810308\n",
      "0.780364875749\n",
      "0.780113071052\n",
      "0.682225928023\n",
      "0.764283578804\n",
      "0.791188368204\n",
      "0.745039778079\n",
      "0.725723002406\n",
      "0.78472143583\n",
      "0.746247415686\n",
      "0.702757117365\n",
      "0.764889959947\n",
      "0.7061126886\n",
      "0.675685584395\n",
      "0.718771054677\n",
      "0.703999988907\n",
      "0.670881697206\n",
      "0.695001595622\n",
      "0.659338115239\n",
      "0.648794705441\n",
      "0.684103289228\n",
      "0.635471469981\n",
      "0.650376065214\n",
      "0.707146275853\n",
      "0.658887182406\n",
      "Trial 7: $344,750.00\n",
      "0.432056476273\n",
      "0.332891623988\n",
      "0.38653226748\n",
      "0.682969018379\n",
      "0.637979485683\n",
      "0.707019534565\n",
      "0.752752410852\n",
      "0.740762739787\n",
      "0.797099179087\n",
      "0.782345612195\n",
      "0.747331831059\n",
      "0.792859934444\n",
      "0.758283047109\n",
      "0.721284598622\n",
      "0.786616404995\n",
      "0.725739631741\n",
      "0.724408405778\n",
      "0.773154592769\n",
      "0.722025938914\n",
      "0.650214735288\n",
      "0.753759892181\n",
      "0.719067579292\n",
      "0.638375915172\n",
      "0.748262356307\n",
      "0.683664779551\n",
      "0.652048754742\n",
      "0.765587307801\n",
      "0.724134567338\n",
      "0.615290693298\n",
      "0.74487317642\n",
      "Trial 8: $407,232.00\n",
      "0.350691573918\n",
      "0.451847188047\n",
      "0.34158003922\n",
      "0.666529921335\n",
      "0.655222418397\n",
      "0.670375370142\n",
      "0.7634492151\n",
      "0.760319280744\n",
      "0.752097924235\n",
      "0.739507603587\n",
      "0.795463399884\n",
      "0.780591153218\n",
      "0.724602181788\n",
      "0.681803560887\n",
      "0.761953676153\n",
      "0.680712014654\n",
      "0.682595694246\n",
      "0.74706067899\n",
      "0.66057390891\n",
      "0.623653423817\n",
      "0.759930677214\n",
      "0.614162830232\n",
      "0.644749020505\n",
      "0.756245743167\n",
      "0.633766160115\n",
      "0.646644238678\n",
      "0.742079375892\n",
      "0.614014095409\n",
      "0.610650742253\n",
      "0.714634430484\n",
      "Trial 9: $306,000.00\n",
      "0.41820968753\n",
      "0.249511281972\n",
      "0.378477808364\n",
      "0.638857584311\n",
      "0.669895452514\n",
      "0.674279866001\n",
      "0.709403421628\n",
      "0.765498276349\n",
      "0.79241117139\n",
      "0.779498179324\n",
      "0.791087778427\n",
      "0.801581660268\n",
      "0.774784529868\n",
      "0.754293583695\n",
      "0.803574195019\n",
      "0.756884382866\n",
      "0.73248545279\n",
      "0.801290827206\n",
      "0.722992898015\n",
      "0.711313555075\n",
      "0.774958880378\n",
      "0.634232886023\n",
      "0.699843881728\n",
      "0.754703718009\n",
      "0.686320336513\n",
      "0.667874258886\n",
      "0.741364585325\n",
      "0.677508968623\n",
      "0.677524503362\n",
      "0.740403018869\n",
      "Trial 10: $316,890.00\n",
      "\n",
      "Range in prices: $107,334.78\n"
     ]
    }
   ],
   "source": [
    "vs.PredictTrials(features, prices, fit_model, client_data)"
   ]
  },
  {
   "cell_type": "markdown",
   "metadata": {},
   "source": [
    "### 问题 11 - 实用性探讨\n",
    "*简单地讨论一下你建构的模型能否在现实世界中使用？* \n",
    "\n",
    "**提示：** 回答几个问题：\n",
    "- *1978年所采集的数据，在今天是否仍然适用？*\n",
    "- *数据中呈现的特征是否足够描述一个房屋？*\n",
    "- *模型是否足够健壮来保证预测的一致性？*\n",
    "- *在波士顿这样的大都市采集的数据，能否应用在其它乡镇地区？*"
   ]
  },
  {
   "cell_type": "markdown",
   "metadata": {},
   "source": [
    "**答案: **\n",
    "+ 我认为1978年所采集数据已经不再适用，因为35年间，当时采集数据的很多房屋已经经过多次重建，而房屋的建造时间对价格影响很大; \n",
    "+ 我认为应该再加入一些其他特征，除了上面提到的房屋建造时间，房地产公司应该也被当作一种特征加入，因为信誉良好的房地产公司房屋质量更加值得信赖，所以在其他特征相同的情况下，价格应该略高; \n",
    "+ 我认为建立的模型足够健壮，因为建立模型的过程中决定系数R^2接近1,而且使用网络搜索和交叉验证的方式充分考虑的不同参数的组合。 \n",
    "+ 波士顿采集的数据不能应用于乡镇地区，我认为乡镇地区市场竞争不够充分，用于描述房屋价格的特征与大城市不同，所以不能使用相同模型。"
   ]
  }
 ],
 "metadata": {
  "anaconda-cloud": {},
  "kernelspec": {
   "display_name": "Python [default]",
   "language": "python",
   "name": "python2"
  },
  "language_info": {
   "codemirror_mode": {
    "name": "ipython",
    "version": 2
   },
   "file_extension": ".py",
   "mimetype": "text/x-python",
   "name": "python",
   "nbconvert_exporter": "python",
   "pygments_lexer": "ipython2",
   "version": "2.7.12"
  }
 },
 "nbformat": 4,
 "nbformat_minor": 0
}
